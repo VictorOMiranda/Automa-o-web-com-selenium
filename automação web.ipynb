{
 "cells": [
  {
   "cell_type": "code",
   "execution_count": 4,
   "id": "d8d3aff9",
   "metadata": {},
   "outputs": [],
   "source": [
    "# importando as bibliotecas \n",
    "from selenium import webdriver\n",
    "from webdriver_manager.chrome import ChromeDriverManager\n",
    "from selenium.webdriver.chrome.service import Service\n"
   ]
  },
  {
   "cell_type": "code",
   "execution_count": 11,
   "id": "ce24be80",
   "metadata": {},
   "outputs": [],
   "source": [
    "# Instalando o Chrome driver, necessário para funcionar com a biblioteca Selenium\n",
    "servico = Service(ChromeDriverManager().install())\n",
    "\n",
    "navegador = webdriver.Chrome(service=servico)"
   ]
  },
  {
   "cell_type": "code",
   "execution_count": 17,
   "id": "c02be405",
   "metadata": {},
   "outputs": [],
   "source": [
    "#Passo 1 : abrindo o navegador e a pagina\n",
    "navegador = webdriver.Chrome(service=servico)\n",
    "navegador.get(\"https://pages.hashtagtreinamentos.com/inscricao-minicurso-python-automacao-org?origemurl=hashtag_yt_org_minipython_videoselenium\")\n",
    "\n",
    "#Passo 2 : encontrando o campo para digitar o nome\n",
    "navegador.find_element('xpath','//*[@id=\"section-10356508\"]/section/div[2]/div/div[2]/form/div[1]/div/div[1]/div/input').send_keys('coloque o nome aqui')\n",
    "navegador.find_element('xpath','//*[@id=\"section-10356508\"]/section/div[2]/div/div[2]/form/div[1]/div/div[2]/div/input').send_keys('coloque seu e-mail aqui')\n",
    "\n",
    "#Passo 3 clicando no botão para fazer o downdload\n",
    "navegador.find_element('xpath','//*[@id=\"section-10356508\"]/section/div[2]/div/div[2]/form/button').click()"
   ]
  },
  {
   "cell_type": "code",
   "execution_count": null,
   "id": "b70a3d33",
   "metadata": {},
   "outputs": [],
   "source": []
  }
 ],
 "metadata": {
  "kernelspec": {
   "display_name": "Python 3 (ipykernel)",
   "language": "python",
   "name": "python3"
  },
  "language_info": {
   "codemirror_mode": {
    "name": "ipython",
    "version": 3
   },
   "file_extension": ".py",
   "mimetype": "text/x-python",
   "name": "python",
   "nbconvert_exporter": "python",
   "pygments_lexer": "ipython3",
   "version": "3.9.12"
  }
 },
 "nbformat": 4,
 "nbformat_minor": 5
}
